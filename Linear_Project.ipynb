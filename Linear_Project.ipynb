{
  "nbformat": 4,
  "nbformat_minor": 0,
  "metadata": {
    "colab": {
      "provenance": [],
      "include_colab_link": true
    },
    "kernelspec": {
      "name": "python3",
      "display_name": "Python 3"
    },
    "language_info": {
      "name": "python"
    }
  },
  "cells": [
    {
      "cell_type": "markdown",
      "metadata": {
        "id": "view-in-github",
        "colab_type": "text"
      },
      "source": [
        "<a href=\"https://colab.research.google.com/github/anjulsingh104/Linear_regression/blob/main/Linear_Project.ipynb\" target=\"_parent\"><img src=\"https://colab.research.google.com/assets/colab-badge.svg\" alt=\"Open In Colab\"/></a>"
      ]
    },
    {
      "cell_type": "markdown",
      "source": [
        "## Importing Libraries"
      ],
      "metadata": {
        "id": "70HsT3t1hNgR"
      }
    },
    {
      "cell_type": "code",
      "execution_count": null,
      "metadata": {
        "id": "dlqVuMJvCJAS"
      },
      "outputs": [],
      "source": [
        "import pandas as pd\n",
        "import numpy as np\n",
        "import warnings\n",
        "warnings.filterwarnings('ignore')\n",
        "\n",
        "import seaborn as sns\n",
        "import matplotlib.pyplot as plt\n",
        "%matplotlib inline\n",
        "sns.set(style= 'white', color_codes= True)\n"
      ]
    },
    {
      "cell_type": "markdown",
      "source": [
        "##Loading DataSet\n"
      ],
      "metadata": {
        "id": "a5RlUrraYhMK"
      }
    },
    {
      "cell_type": "code",
      "source": [
        "data = pd.read_csv(\"//content/drive/MyDrive/Datasets/SeoulBikeData.csv\")\n",
        "data.head()"
      ],
      "metadata": {
        "colab": {
          "base_uri": "https://localhost:8080/",
          "height": 392
        },
        "id": "48v3c6UMCYUD",
        "outputId": "1fef1406-727e-4e36-db63-45df2af5f4c2"
      },
      "execution_count": null,
      "outputs": [
        {
          "output_type": "execute_result",
          "data": {
            "text/html": [
              "\n",
              "  <div id=\"df-bacfb9f4-2f29-466b-ae61-76a3a18adb92\">\n",
              "    <div class=\"colab-df-container\">\n",
              "      <div>\n",
              "<style scoped>\n",
              "    .dataframe tbody tr th:only-of-type {\n",
              "        vertical-align: middle;\n",
              "    }\n",
              "\n",
              "    .dataframe tbody tr th {\n",
              "        vertical-align: top;\n",
              "    }\n",
              "\n",
              "    .dataframe thead th {\n",
              "        text-align: right;\n",
              "    }\n",
              "</style>\n",
              "<table border=\"1\" class=\"dataframe\">\n",
              "  <thead>\n",
              "    <tr style=\"text-align: right;\">\n",
              "      <th></th>\n",
              "      <th>Date</th>\n",
              "      <th>Rented Bike Count</th>\n",
              "      <th>Hour</th>\n",
              "      <th>Temperature(C)</th>\n",
              "      <th>Humidity(%)</th>\n",
              "      <th>Wind speed (m/s)</th>\n",
              "      <th>Visibility (10m)</th>\n",
              "      <th>Dew point temperature(C)</th>\n",
              "      <th>Solar Radiation (MJ/m2)</th>\n",
              "      <th>Rainfall(mm)</th>\n",
              "      <th>Snowfall (cm)</th>\n",
              "      <th>Seasons</th>\n",
              "      <th>Holiday</th>\n",
              "      <th>Functioning Day</th>\n",
              "    </tr>\n",
              "  </thead>\n",
              "  <tbody>\n",
              "    <tr>\n",
              "      <th>0</th>\n",
              "      <td>01/12/2017</td>\n",
              "      <td>254</td>\n",
              "      <td>0</td>\n",
              "      <td>-5.2</td>\n",
              "      <td>37</td>\n",
              "      <td>2.2</td>\n",
              "      <td>2000</td>\n",
              "      <td>-17.6</td>\n",
              "      <td>0.0</td>\n",
              "      <td>0.0</td>\n",
              "      <td>0.0</td>\n",
              "      <td>Winter</td>\n",
              "      <td>No Holiday</td>\n",
              "      <td>Yes</td>\n",
              "    </tr>\n",
              "    <tr>\n",
              "      <th>1</th>\n",
              "      <td>01/12/2017</td>\n",
              "      <td>204</td>\n",
              "      <td>1</td>\n",
              "      <td>-5.5</td>\n",
              "      <td>38</td>\n",
              "      <td>0.8</td>\n",
              "      <td>2000</td>\n",
              "      <td>-17.6</td>\n",
              "      <td>0.0</td>\n",
              "      <td>0.0</td>\n",
              "      <td>0.0</td>\n",
              "      <td>Winter</td>\n",
              "      <td>No Holiday</td>\n",
              "      <td>Yes</td>\n",
              "    </tr>\n",
              "    <tr>\n",
              "      <th>2</th>\n",
              "      <td>01/12/2017</td>\n",
              "      <td>173</td>\n",
              "      <td>2</td>\n",
              "      <td>-6.0</td>\n",
              "      <td>39</td>\n",
              "      <td>1.0</td>\n",
              "      <td>2000</td>\n",
              "      <td>-17.7</td>\n",
              "      <td>0.0</td>\n",
              "      <td>0.0</td>\n",
              "      <td>0.0</td>\n",
              "      <td>Winter</td>\n",
              "      <td>No Holiday</td>\n",
              "      <td>Yes</td>\n",
              "    </tr>\n",
              "    <tr>\n",
              "      <th>3</th>\n",
              "      <td>01/12/2017</td>\n",
              "      <td>107</td>\n",
              "      <td>3</td>\n",
              "      <td>-6.2</td>\n",
              "      <td>40</td>\n",
              "      <td>0.9</td>\n",
              "      <td>2000</td>\n",
              "      <td>-17.6</td>\n",
              "      <td>0.0</td>\n",
              "      <td>0.0</td>\n",
              "      <td>0.0</td>\n",
              "      <td>Winter</td>\n",
              "      <td>No Holiday</td>\n",
              "      <td>Yes</td>\n",
              "    </tr>\n",
              "    <tr>\n",
              "      <th>4</th>\n",
              "      <td>01/12/2017</td>\n",
              "      <td>78</td>\n",
              "      <td>4</td>\n",
              "      <td>-6.0</td>\n",
              "      <td>36</td>\n",
              "      <td>2.3</td>\n",
              "      <td>2000</td>\n",
              "      <td>-18.6</td>\n",
              "      <td>0.0</td>\n",
              "      <td>0.0</td>\n",
              "      <td>0.0</td>\n",
              "      <td>Winter</td>\n",
              "      <td>No Holiday</td>\n",
              "      <td>Yes</td>\n",
              "    </tr>\n",
              "  </tbody>\n",
              "</table>\n",
              "</div>\n",
              "      <button class=\"colab-df-convert\" onclick=\"convertToInteractive('df-bacfb9f4-2f29-466b-ae61-76a3a18adb92')\"\n",
              "              title=\"Convert this dataframe to an interactive table.\"\n",
              "              style=\"display:none;\">\n",
              "        \n",
              "  <svg xmlns=\"http://www.w3.org/2000/svg\" height=\"24px\"viewBox=\"0 0 24 24\"\n",
              "       width=\"24px\">\n",
              "    <path d=\"M0 0h24v24H0V0z\" fill=\"none\"/>\n",
              "    <path d=\"M18.56 5.44l.94 2.06.94-2.06 2.06-.94-2.06-.94-.94-2.06-.94 2.06-2.06.94zm-11 1L8.5 8.5l.94-2.06 2.06-.94-2.06-.94L8.5 2.5l-.94 2.06-2.06.94zm10 10l.94 2.06.94-2.06 2.06-.94-2.06-.94-.94-2.06-.94 2.06-2.06.94z\"/><path d=\"M17.41 7.96l-1.37-1.37c-.4-.4-.92-.59-1.43-.59-.52 0-1.04.2-1.43.59L10.3 9.45l-7.72 7.72c-.78.78-.78 2.05 0 2.83L4 21.41c.39.39.9.59 1.41.59.51 0 1.02-.2 1.41-.59l7.78-7.78 2.81-2.81c.8-.78.8-2.07 0-2.86zM5.41 20L4 18.59l7.72-7.72 1.47 1.35L5.41 20z\"/>\n",
              "  </svg>\n",
              "      </button>\n",
              "      \n",
              "  <style>\n",
              "    .colab-df-container {\n",
              "      display:flex;\n",
              "      flex-wrap:wrap;\n",
              "      gap: 12px;\n",
              "    }\n",
              "\n",
              "    .colab-df-convert {\n",
              "      background-color: #E8F0FE;\n",
              "      border: none;\n",
              "      border-radius: 50%;\n",
              "      cursor: pointer;\n",
              "      display: none;\n",
              "      fill: #1967D2;\n",
              "      height: 32px;\n",
              "      padding: 0 0 0 0;\n",
              "      width: 32px;\n",
              "    }\n",
              "\n",
              "    .colab-df-convert:hover {\n",
              "      background-color: #E2EBFA;\n",
              "      box-shadow: 0px 1px 2px rgba(60, 64, 67, 0.3), 0px 1px 3px 1px rgba(60, 64, 67, 0.15);\n",
              "      fill: #174EA6;\n",
              "    }\n",
              "\n",
              "    [theme=dark] .colab-df-convert {\n",
              "      background-color: #3B4455;\n",
              "      fill: #D2E3FC;\n",
              "    }\n",
              "\n",
              "    [theme=dark] .colab-df-convert:hover {\n",
              "      background-color: #434B5C;\n",
              "      box-shadow: 0px 1px 3px 1px rgba(0, 0, 0, 0.15);\n",
              "      filter: drop-shadow(0px 1px 2px rgba(0, 0, 0, 0.3));\n",
              "      fill: #FFFFFF;\n",
              "    }\n",
              "  </style>\n",
              "\n",
              "      <script>\n",
              "        const buttonEl =\n",
              "          document.querySelector('#df-bacfb9f4-2f29-466b-ae61-76a3a18adb92 button.colab-df-convert');\n",
              "        buttonEl.style.display =\n",
              "          google.colab.kernel.accessAllowed ? 'block' : 'none';\n",
              "\n",
              "        async function convertToInteractive(key) {\n",
              "          const element = document.querySelector('#df-bacfb9f4-2f29-466b-ae61-76a3a18adb92');\n",
              "          const dataTable =\n",
              "            await google.colab.kernel.invokeFunction('convertToInteractive',\n",
              "                                                     [key], {});\n",
              "          if (!dataTable) return;\n",
              "\n",
              "          const docLinkHtml = 'Like what you see? Visit the ' +\n",
              "            '<a target=\"_blank\" href=https://colab.research.google.com/notebooks/data_table.ipynb>data table notebook</a>'\n",
              "            + ' to learn more about interactive tables.';\n",
              "          element.innerHTML = '';\n",
              "          dataTable['output_type'] = 'display_data';\n",
              "          await google.colab.output.renderOutput(dataTable, element);\n",
              "          const docLink = document.createElement('div');\n",
              "          docLink.innerHTML = docLinkHtml;\n",
              "          element.appendChild(docLink);\n",
              "        }\n",
              "      </script>\n",
              "    </div>\n",
              "  </div>\n",
              "  "
            ],
            "text/plain": [
              "         Date  Rented Bike Count  Hour  ...  Seasons     Holiday  Functioning Day\n",
              "0  01/12/2017                254     0  ...   Winter  No Holiday              Yes\n",
              "1  01/12/2017                204     1  ...   Winter  No Holiday              Yes\n",
              "2  01/12/2017                173     2  ...   Winter  No Holiday              Yes\n",
              "3  01/12/2017                107     3  ...   Winter  No Holiday              Yes\n",
              "4  01/12/2017                 78     4  ...   Winter  No Holiday              Yes\n",
              "\n",
              "[5 rows x 14 columns]"
            ]
          },
          "metadata": {},
          "execution_count": 11
        }
      ]
    },
    {
      "cell_type": "markdown",
      "source": [
        "##Encoding DataSet"
      ],
      "metadata": {
        "id": "15b7QUEaaEc3"
      }
    },
    {
      "cell_type": "code",
      "source": [
        "df = data.drop(['Date'],axis = 1)"
      ],
      "metadata": {
        "id": "uClE18gTrT9S"
      },
      "execution_count": null,
      "outputs": []
    },
    {
      "cell_type": "code",
      "source": [
        "from sklearn import preprocessing\n",
        "\n",
        "LE = preprocessing.LabelEncoder()\n",
        "df['Seasons'] = [].apply(LE.fit_transform)\n",
        "\n",
        "# LE.fit(data)\n",
        "# data = LE.transform(data)\n",
        "\n",
        "\n",
        "\n",
        "df.head()"
      ],
      "metadata": {
        "colab": {
          "base_uri": "https://localhost:8080/"
        },
        "id": "_E9y9_bFEq-2",
        "outputId": "6a52ade6-1fff-47e6-e91c-c5bb34fe5c9a"
      },
      "execution_count": null,
      "outputs": [
        {
          "output_type": "error",
          "ename": "AttributeError",
          "evalue": "ignored",
          "traceback": [
            "\u001b[0;31m---------------------------------------------------------------------------\u001b[0m",
            "\u001b[0;31mAttributeError\u001b[0m                            Traceback (most recent call last)",
            "\u001b[0;32m<ipython-input-1-48963f12f1f9>\u001b[0m in \u001b[0;36m<module>\u001b[0;34m()\u001b[0m\n\u001b[1;32m      2\u001b[0m \u001b[0;34m\u001b[0m\u001b[0m\n\u001b[1;32m      3\u001b[0m \u001b[0mLE\u001b[0m \u001b[0;34m=\u001b[0m \u001b[0mpreprocessing\u001b[0m\u001b[0;34m.\u001b[0m\u001b[0mLabelEncoder\u001b[0m\u001b[0;34m(\u001b[0m\u001b[0;34m)\u001b[0m\u001b[0;34m\u001b[0m\u001b[0;34m\u001b[0m\u001b[0m\n\u001b[0;32m----> 4\u001b[0;31m \u001b[0mdf\u001b[0m\u001b[0;34m[\u001b[0m\u001b[0;34m'Seasons'\u001b[0m\u001b[0;34m]\u001b[0m \u001b[0;34m=\u001b[0m \u001b[0;34m[\u001b[0m\u001b[0;34m]\u001b[0m\u001b[0;34m.\u001b[0m\u001b[0mapply\u001b[0m\u001b[0;34m(\u001b[0m\u001b[0mLE\u001b[0m\u001b[0;34m.\u001b[0m\u001b[0mfit_transform\u001b[0m\u001b[0;34m)\u001b[0m\u001b[0;34m\u001b[0m\u001b[0;34m\u001b[0m\u001b[0m\n\u001b[0m\u001b[1;32m      5\u001b[0m \u001b[0;34m\u001b[0m\u001b[0m\n\u001b[1;32m      6\u001b[0m \u001b[0;31m# LE.fit(data)\u001b[0m\u001b[0;34m\u001b[0m\u001b[0;34m\u001b[0m\u001b[0;34m\u001b[0m\u001b[0m\n",
            "\u001b[0;31mAttributeError\u001b[0m: 'list' object has no attribute 'apply'"
          ]
        }
      ]
    },
    {
      "cell_type": "code",
      "source": [
        "df.dtypes"
      ],
      "metadata": {
        "colab": {
          "base_uri": "https://localhost:8080/"
        },
        "id": "sB7taKqYF_RZ",
        "outputId": "3140b36a-501b-4f9c-eef9-cecee8a8b0f6"
      },
      "execution_count": null,
      "outputs": [
        {
          "output_type": "execute_result",
          "data": {
            "text/plain": [
              "Date                        int64\n",
              "Rented Bike Count           int64\n",
              "Hour                        int64\n",
              "Temperature(C)              int64\n",
              "Humidity(%)                 int64\n",
              "Wind speed (m/s)            int64\n",
              "Visibility (10m)            int64\n",
              "Dew point temperature(C)    int64\n",
              "Solar Radiation (MJ/m2)     int64\n",
              "Rainfall(mm)                int64\n",
              "Snowfall (cm)               int64\n",
              "Seasons                     int64\n",
              "Functioning Day             int64\n",
              "dtype: object"
            ]
          },
          "metadata": {},
          "execution_count": 218
        }
      ]
    },
    {
      "cell_type": "code",
      "source": [
        "#df = data.select_dtypes(include= ['float64','int64'])"
      ],
      "metadata": {
        "id": "ulTKnQLKDTT4"
      },
      "execution_count": null,
      "outputs": []
    },
    {
      "cell_type": "code",
      "source": [
        "df"
      ],
      "metadata": {
        "colab": {
          "base_uri": "https://localhost:8080/",
          "height": 502
        },
        "id": "N2rcHvVCDx6r",
        "outputId": "7a8a1b21-c92e-44ea-cd11-9cc18c5dd680"
      },
      "execution_count": null,
      "outputs": [
        {
          "output_type": "execute_result",
          "data": {
            "text/html": [
              "\n",
              "  <div id=\"df-ae8ea3dd-a70e-4897-b365-7b724aca0068\">\n",
              "    <div class=\"colab-df-container\">\n",
              "      <div>\n",
              "<style scoped>\n",
              "    .dataframe tbody tr th:only-of-type {\n",
              "        vertical-align: middle;\n",
              "    }\n",
              "\n",
              "    .dataframe tbody tr th {\n",
              "        vertical-align: top;\n",
              "    }\n",
              "\n",
              "    .dataframe thead th {\n",
              "        text-align: right;\n",
              "    }\n",
              "</style>\n",
              "<table border=\"1\" class=\"dataframe\">\n",
              "  <thead>\n",
              "    <tr style=\"text-align: right;\">\n",
              "      <th></th>\n",
              "      <th>Date</th>\n",
              "      <th>Rented Bike Count</th>\n",
              "      <th>Hour</th>\n",
              "      <th>Temperature(C)</th>\n",
              "      <th>Humidity(%)</th>\n",
              "      <th>Wind speed (m/s)</th>\n",
              "      <th>Visibility (10m)</th>\n",
              "      <th>Dew point temperature(C)</th>\n",
              "      <th>Solar Radiation (MJ/m2)</th>\n",
              "      <th>Rainfall(mm)</th>\n",
              "      <th>Snowfall (cm)</th>\n",
              "      <th>Seasons</th>\n",
              "      <th>Functioning Day</th>\n",
              "    </tr>\n",
              "  </thead>\n",
              "  <tbody>\n",
              "    <tr>\n",
              "      <th>0</th>\n",
              "      <td>11</td>\n",
              "      <td>253</td>\n",
              "      <td>0</td>\n",
              "      <td>111</td>\n",
              "      <td>28</td>\n",
              "      <td>22</td>\n",
              "      <td>1788</td>\n",
              "      <td>114</td>\n",
              "      <td>0</td>\n",
              "      <td>0</td>\n",
              "      <td>0</td>\n",
              "      <td>3</td>\n",
              "      <td>1</td>\n",
              "    </tr>\n",
              "    <tr>\n",
              "      <th>1</th>\n",
              "      <td>11</td>\n",
              "      <td>203</td>\n",
              "      <td>1</td>\n",
              "      <td>108</td>\n",
              "      <td>29</td>\n",
              "      <td>8</td>\n",
              "      <td>1788</td>\n",
              "      <td>114</td>\n",
              "      <td>0</td>\n",
              "      <td>0</td>\n",
              "      <td>0</td>\n",
              "      <td>3</td>\n",
              "      <td>1</td>\n",
              "    </tr>\n",
              "    <tr>\n",
              "      <th>2</th>\n",
              "      <td>11</td>\n",
              "      <td>172</td>\n",
              "      <td>2</td>\n",
              "      <td>103</td>\n",
              "      <td>30</td>\n",
              "      <td>10</td>\n",
              "      <td>1788</td>\n",
              "      <td>113</td>\n",
              "      <td>0</td>\n",
              "      <td>0</td>\n",
              "      <td>0</td>\n",
              "      <td>3</td>\n",
              "      <td>1</td>\n",
              "    </tr>\n",
              "    <tr>\n",
              "      <th>3</th>\n",
              "      <td>11</td>\n",
              "      <td>106</td>\n",
              "      <td>3</td>\n",
              "      <td>101</td>\n",
              "      <td>31</td>\n",
              "      <td>9</td>\n",
              "      <td>1788</td>\n",
              "      <td>114</td>\n",
              "      <td>0</td>\n",
              "      <td>0</td>\n",
              "      <td>0</td>\n",
              "      <td>3</td>\n",
              "      <td>1</td>\n",
              "    </tr>\n",
              "    <tr>\n",
              "      <th>4</th>\n",
              "      <td>11</td>\n",
              "      <td>77</td>\n",
              "      <td>4</td>\n",
              "      <td>103</td>\n",
              "      <td>27</td>\n",
              "      <td>23</td>\n",
              "      <td>1788</td>\n",
              "      <td>104</td>\n",
              "      <td>0</td>\n",
              "      <td>0</td>\n",
              "      <td>0</td>\n",
              "      <td>3</td>\n",
              "      <td>1</td>\n",
              "    </tr>\n",
              "    <tr>\n",
              "      <th>...</th>\n",
              "      <td>...</td>\n",
              "      <td>...</td>\n",
              "      <td>...</td>\n",
              "      <td>...</td>\n",
              "      <td>...</td>\n",
              "      <td>...</td>\n",
              "      <td>...</td>\n",
              "      <td>...</td>\n",
              "      <td>...</td>\n",
              "      <td>...</td>\n",
              "      <td>...</td>\n",
              "      <td>...</td>\n",
              "      <td>...</td>\n",
              "    </tr>\n",
              "    <tr>\n",
              "      <th>8755</th>\n",
              "      <td>356</td>\n",
              "      <td>991</td>\n",
              "      <td>19</td>\n",
              "      <td>205</td>\n",
              "      <td>25</td>\n",
              "      <td>26</td>\n",
              "      <td>1682</td>\n",
              "      <td>187</td>\n",
              "      <td>0</td>\n",
              "      <td>0</td>\n",
              "      <td>0</td>\n",
              "      <td>0</td>\n",
              "      <td>1</td>\n",
              "    </tr>\n",
              "    <tr>\n",
              "      <th>8756</th>\n",
              "      <td>356</td>\n",
              "      <td>755</td>\n",
              "      <td>20</td>\n",
              "      <td>197</td>\n",
              "      <td>28</td>\n",
              "      <td>23</td>\n",
              "      <td>1788</td>\n",
              "      <td>191</td>\n",
              "      <td>0</td>\n",
              "      <td>0</td>\n",
              "      <td>0</td>\n",
              "      <td>0</td>\n",
              "      <td>1</td>\n",
              "    </tr>\n",
              "    <tr>\n",
              "      <th>8757</th>\n",
              "      <td>356</td>\n",
              "      <td>686</td>\n",
              "      <td>21</td>\n",
              "      <td>189</td>\n",
              "      <td>30</td>\n",
              "      <td>3</td>\n",
              "      <td>1756</td>\n",
              "      <td>191</td>\n",
              "      <td>0</td>\n",
              "      <td>0</td>\n",
              "      <td>0</td>\n",
              "      <td>0</td>\n",
              "      <td>1</td>\n",
              "    </tr>\n",
              "    <tr>\n",
              "      <th>8758</th>\n",
              "      <td>356</td>\n",
              "      <td>704</td>\n",
              "      <td>22</td>\n",
              "      <td>184</td>\n",
              "      <td>32</td>\n",
              "      <td>10</td>\n",
              "      <td>1648</td>\n",
              "      <td>192</td>\n",
              "      <td>0</td>\n",
              "      <td>0</td>\n",
              "      <td>0</td>\n",
              "      <td>0</td>\n",
              "      <td>1</td>\n",
              "    </tr>\n",
              "    <tr>\n",
              "      <th>8759</th>\n",
              "      <td>356</td>\n",
              "      <td>580</td>\n",
              "      <td>23</td>\n",
              "      <td>182</td>\n",
              "      <td>34</td>\n",
              "      <td>13</td>\n",
              "      <td>1697</td>\n",
              "      <td>197</td>\n",
              "      <td>0</td>\n",
              "      <td>0</td>\n",
              "      <td>0</td>\n",
              "      <td>0</td>\n",
              "      <td>1</td>\n",
              "    </tr>\n",
              "  </tbody>\n",
              "</table>\n",
              "<p>8760 rows × 13 columns</p>\n",
              "</div>\n",
              "      <button class=\"colab-df-convert\" onclick=\"convertToInteractive('df-ae8ea3dd-a70e-4897-b365-7b724aca0068')\"\n",
              "              title=\"Convert this dataframe to an interactive table.\"\n",
              "              style=\"display:none;\">\n",
              "        \n",
              "  <svg xmlns=\"http://www.w3.org/2000/svg\" height=\"24px\"viewBox=\"0 0 24 24\"\n",
              "       width=\"24px\">\n",
              "    <path d=\"M0 0h24v24H0V0z\" fill=\"none\"/>\n",
              "    <path d=\"M18.56 5.44l.94 2.06.94-2.06 2.06-.94-2.06-.94-.94-2.06-.94 2.06-2.06.94zm-11 1L8.5 8.5l.94-2.06 2.06-.94-2.06-.94L8.5 2.5l-.94 2.06-2.06.94zm10 10l.94 2.06.94-2.06 2.06-.94-2.06-.94-.94-2.06-.94 2.06-2.06.94z\"/><path d=\"M17.41 7.96l-1.37-1.37c-.4-.4-.92-.59-1.43-.59-.52 0-1.04.2-1.43.59L10.3 9.45l-7.72 7.72c-.78.78-.78 2.05 0 2.83L4 21.41c.39.39.9.59 1.41.59.51 0 1.02-.2 1.41-.59l7.78-7.78 2.81-2.81c.8-.78.8-2.07 0-2.86zM5.41 20L4 18.59l7.72-7.72 1.47 1.35L5.41 20z\"/>\n",
              "  </svg>\n",
              "      </button>\n",
              "      \n",
              "  <style>\n",
              "    .colab-df-container {\n",
              "      display:flex;\n",
              "      flex-wrap:wrap;\n",
              "      gap: 12px;\n",
              "    }\n",
              "\n",
              "    .colab-df-convert {\n",
              "      background-color: #E8F0FE;\n",
              "      border: none;\n",
              "      border-radius: 50%;\n",
              "      cursor: pointer;\n",
              "      display: none;\n",
              "      fill: #1967D2;\n",
              "      height: 32px;\n",
              "      padding: 0 0 0 0;\n",
              "      width: 32px;\n",
              "    }\n",
              "\n",
              "    .colab-df-convert:hover {\n",
              "      background-color: #E2EBFA;\n",
              "      box-shadow: 0px 1px 2px rgba(60, 64, 67, 0.3), 0px 1px 3px 1px rgba(60, 64, 67, 0.15);\n",
              "      fill: #174EA6;\n",
              "    }\n",
              "\n",
              "    [theme=dark] .colab-df-convert {\n",
              "      background-color: #3B4455;\n",
              "      fill: #D2E3FC;\n",
              "    }\n",
              "\n",
              "    [theme=dark] .colab-df-convert:hover {\n",
              "      background-color: #434B5C;\n",
              "      box-shadow: 0px 1px 3px 1px rgba(0, 0, 0, 0.15);\n",
              "      filter: drop-shadow(0px 1px 2px rgba(0, 0, 0, 0.3));\n",
              "      fill: #FFFFFF;\n",
              "    }\n",
              "  </style>\n",
              "\n",
              "      <script>\n",
              "        const buttonEl =\n",
              "          document.querySelector('#df-ae8ea3dd-a70e-4897-b365-7b724aca0068 button.colab-df-convert');\n",
              "        buttonEl.style.display =\n",
              "          google.colab.kernel.accessAllowed ? 'block' : 'none';\n",
              "\n",
              "        async function convertToInteractive(key) {\n",
              "          const element = document.querySelector('#df-ae8ea3dd-a70e-4897-b365-7b724aca0068');\n",
              "          const dataTable =\n",
              "            await google.colab.kernel.invokeFunction('convertToInteractive',\n",
              "                                                     [key], {});\n",
              "          if (!dataTable) return;\n",
              "\n",
              "          const docLinkHtml = 'Like what you see? Visit the ' +\n",
              "            '<a target=\"_blank\" href=https://colab.research.google.com/notebooks/data_table.ipynb>data table notebook</a>'\n",
              "            + ' to learn more about interactive tables.';\n",
              "          element.innerHTML = '';\n",
              "          dataTable['output_type'] = 'display_data';\n",
              "          await google.colab.output.renderOutput(dataTable, element);\n",
              "          const docLink = document.createElement('div');\n",
              "          docLink.innerHTML = docLinkHtml;\n",
              "          element.appendChild(docLink);\n",
              "        }\n",
              "      </script>\n",
              "    </div>\n",
              "  </div>\n",
              "  "
            ],
            "text/plain": [
              "      Date  Rented Bike Count  Hour  ...  Snowfall (cm)  Seasons  Functioning Day\n",
              "0       11                253     0  ...              0        3                1\n",
              "1       11                203     1  ...              0        3                1\n",
              "2       11                172     2  ...              0        3                1\n",
              "3       11                106     3  ...              0        3                1\n",
              "4       11                 77     4  ...              0        3                1\n",
              "...    ...                ...   ...  ...            ...      ...              ...\n",
              "8755   356                991    19  ...              0        0                1\n",
              "8756   356                755    20  ...              0        0                1\n",
              "8757   356                686    21  ...              0        0                1\n",
              "8758   356                704    22  ...              0        0                1\n",
              "8759   356                580    23  ...              0        0                1\n",
              "\n",
              "[8760 rows x 13 columns]"
            ]
          },
          "metadata": {},
          "execution_count": 220
        }
      ]
    },
    {
      "cell_type": "markdown",
      "source": [
        "##Checking Missing Value"
      ],
      "metadata": {
        "id": "Xo6sZOmDaxp1"
      }
    },
    {
      "cell_type": "code",
      "source": [
        "df.isnull().sum()"
      ],
      "metadata": {
        "colab": {
          "base_uri": "https://localhost:8080/"
        },
        "id": "nDVr8ae2D1DQ",
        "outputId": "2f5721e0-e0d1-465a-cabf-6bae80654438"
      },
      "execution_count": null,
      "outputs": [
        {
          "output_type": "execute_result",
          "data": {
            "text/plain": [
              "Date                        0\n",
              "Rented Bike Count           0\n",
              "Hour                        0\n",
              "Temperature(C)              0\n",
              "Humidity(%)                 0\n",
              "Wind speed (m/s)            0\n",
              "Visibility (10m)            0\n",
              "Dew point temperature(C)    0\n",
              "Solar Radiation (MJ/m2)     0\n",
              "Rainfall(mm)                0\n",
              "Snowfall (cm)               0\n",
              "Seasons                     0\n",
              "Functioning Day             0\n",
              "dtype: int64"
            ]
          },
          "metadata": {},
          "execution_count": 221
        }
      ]
    },
    {
      "cell_type": "markdown",
      "source": [
        "##Checking Columns"
      ],
      "metadata": {
        "id": "JnjAofvgbDfo"
      }
    },
    {
      "cell_type": "code",
      "source": [
        "df.columns\n"
      ],
      "metadata": {
        "colab": {
          "base_uri": "https://localhost:8080/"
        },
        "id": "LfFxi23zEGTy",
        "outputId": "ce251d9a-95f4-44f8-d8c2-41930d64807b"
      },
      "execution_count": null,
      "outputs": [
        {
          "output_type": "execute_result",
          "data": {
            "text/plain": [
              "Index(['Date', 'Rented Bike Count', 'Hour', 'Temperature(C)', 'Humidity(%)',\n",
              "       'Wind speed (m/s)', 'Visibility (10m)', 'Dew point temperature(C)',\n",
              "       'Solar Radiation (MJ/m2)', 'Rainfall(mm)', 'Snowfall (cm)', 'Seasons',\n",
              "       'Functioning Day'],\n",
              "      dtype='object')"
            ]
          },
          "metadata": {},
          "execution_count": 222
        }
      ]
    },
    {
      "cell_type": "markdown",
      "source": [
        "##Removing Outliers"
      ],
      "metadata": {
        "id": "mZxO4NhNZlEj"
      }
    },
    {
      "cell_type": "code",
      "source": [
        "df.rename(columns = {'Wind speed (m/s)':'Wind_speed_(m/s)'},inplace = True)"
      ],
      "metadata": {
        "id": "WHoa3CdbojfY"
      },
      "execution_count": null,
      "outputs": []
    },
    {
      "cell_type": "code",
      "source": [
        "plt.figure(figsize = (5,5))\n",
        "sns.boxplot(df['Wind_speed_(m/s)'])\n",
        "plt.show()"
      ],
      "metadata": {
        "colab": {
          "base_uri": "https://localhost:8080/",
          "height": 339
        },
        "id": "5G5KQs-ug4w9",
        "outputId": "a01b994b-95d0-4360-8f83-e400a9e247b2"
      },
      "execution_count": null,
      "outputs": [
        {
          "output_type": "display_data",
          "data": {
            "image/png": "[encoded data removed]",
            "text/plain": [
              "<Figure size 360x360 with 1 Axes>"
            ]
          },
          "metadata": {}
        }
      ]
    },
    {
      "cell_type": "code",
      "source": [
        "Q1 , Q2 , Q3 = np.percentile(df['Wind_speed_(m/s)'],[25 , 50, 75])"
      ],
      "metadata": {
        "id": "EVw_8pvjmS-1"
      },
      "execution_count": null,
      "outputs": []
    },
    {
      "cell_type": "code",
      "source": [
        "IQR = Q3 - Q1\n",
        "low_lim = Q1 - (1.5*IQR)\n",
        "up_lim = Q3 + (1.5*IQR)\n",
        "\n",
        "print(low_lim, up_lim)"
      ],
      "metadata": {
        "colab": {
          "base_uri": "https://localhost:8080/"
        },
        "id": "kIQyNqDqkO0D",
        "outputId": "2a87738e-688e-4a8f-fa59-8d7ab8fe99b4"
      },
      "execution_count": null,
      "outputs": [
        {
          "output_type": "stream",
          "name": "stdout",
          "text": [
            "-12.0 44.0\n"
          ]
        }
      ]
    },
    {
      "cell_type": "code",
      "source": [
        "df = df[df['Wind_speed_(m/s)']<up_lim]\n",
        "df = df[df['Wind_speed_(m/s)']>low_lim]\n",
        "\n"
      ],
      "metadata": {
        "id": "GogBAz1vntf0"
      },
      "execution_count": null,
      "outputs": []
    },
    {
      "cell_type": "code",
      "source": [
        "plt.figure(figsize = (5,5))\n",
        "sns.boxplot(df['Wind_speed_(m/s)'])\n",
        "plt.show()"
      ],
      "metadata": {
        "colab": {
          "base_uri": "https://localhost:8080/",
          "height": 339
        },
        "id": "GowWo20spr2c",
        "outputId": "6a099cd3-8010-4b9f-fe31-1c6d8f33f4b5"
      },
      "execution_count": null,
      "outputs": [
        {
          "output_type": "display_data",
          "data": {
            "image/png": "[encoded data removed]",
            "text/plain": [
              "<Figure size 360x360 with 1 Axes>"
            ]
          },
          "metadata": {}
        }
      ]
    },
    {
      "cell_type": "code",
      "source": [
        "plt.figure(figsize = (5,5))\n",
        "sns.boxplot(df['Solar Radiation (MJ/m2)'])\n",
        "plt.show()"
      ],
      "metadata": {
        "colab": {
          "base_uri": "https://localhost:8080/",
          "height": 339
        },
        "id": "kQDn25yri9k9",
        "outputId": "83b039ab-dc82-4667-af2a-6cfb09481ad7"
      },
      "execution_count": null,
      "outputs": [
        {
          "output_type": "display_data",
          "data": {
            "image/png": "[encoded data removed]",
            "text/plain": [
              "<Figure size 360x360 with 1 Axes>"
            ]
          },
          "metadata": {}
        }
      ]
    },
    {
      "cell_type": "code",
      "source": [
        "Q1 , Q2, Q3 = np.percentile(df['Solar Radiation (MJ/m2)'],[25,50,75])\n",
        "IQR = Q3 - Q1\n",
        "low_lim = Q1 - (1.5*IQR)\n",
        "up_lim = Q3 + (1.5*IQR)\n",
        "print(low_lim , up_lim)"
      ],
      "metadata": {
        "colab": {
          "base_uri": "https://localhost:8080/"
        },
        "id": "QOPUxwhqqBHF",
        "outputId": "c5814354-3188-4268-c942-4f72762a0213"
      },
      "execution_count": null,
      "outputs": [
        {
          "output_type": "stream",
          "name": "stdout",
          "text": [
            "-135.0 225.0\n"
          ]
        }
      ]
    },
    {
      "cell_type": "code",
      "source": [
        "df = df[df['Solar Radiation (MJ/m2)']<up_lim]\n",
        "df = df[df['Solar Radiation (MJ/m2)']>low_lim]"
      ],
      "metadata": {
        "id": "4DRxqkUvqllk"
      },
      "execution_count": null,
      "outputs": []
    },
    {
      "cell_type": "code",
      "source": [
        "plt.figure(figsize = (5,5))\n",
        "sns.boxplot(df['Solar Radiation (MJ/m2)'])\n",
        "plt.show()"
      ],
      "metadata": {
        "colab": {
          "base_uri": "https://localhost:8080/",
          "height": 339
        },
        "id": "xsam4nVZq1dn",
        "outputId": "138179e2-062b-40f5-8ea0-1188cfd1b778"
      },
      "execution_count": null,
      "outputs": [
        {
          "output_type": "display_data",
          "data": {
            "image/png": "[encoded data removed]",
            "text/plain": [
              "<Figure size 360x360 with 1 Axes>"
            ]
          },
          "metadata": {}
        }
      ]
    },
    {
      "cell_type": "markdown",
      "source": [
        "##Constructing Correlation"
      ],
      "metadata": {
        "id": "9TzQUkYyb1jh"
      }
    },
    {
      "cell_type": "code",
      "source": [
        "df_corr = df.corr()\n",
        "df_corr"
      ],
      "metadata": {
        "colab": {
          "base_uri": "https://localhost:8080/",
          "height": 608
        },
        "id": "GIqZuwoEEQvm",
        "outputId": "abfc1acf-4147-45fc-b95b-b900c2c1d7e4"
      },
      "execution_count": null,
      "outputs": [
        {
          "output_type": "execute_result",
          "data": {
            "text/html": [
              "\n",
              "  <div id=\"df-29a52f2f-7b1b-46df-b114-69eb33e9b7e7\">\n",
              "    <div class=\"colab-df-container\">\n",
              "      <div>\n",
              "<style scoped>\n",
              "    .dataframe tbody tr th:only-of-type {\n",
              "        vertical-align: middle;\n",
              "    }\n",
              "\n",
              "    .dataframe tbody tr th {\n",
              "        vertical-align: top;\n",
              "    }\n",
              "\n",
              "    .dataframe thead th {\n",
              "        text-align: right;\n",
              "    }\n",
              "</style>\n",
              "<table border=\"1\" class=\"dataframe\">\n",
              "  <thead>\n",
              "    <tr style=\"text-align: right;\">\n",
              "      <th></th>\n",
              "      <th>Date</th>\n",
              "      <th>Rented Bike Count</th>\n",
              "      <th>Hour</th>\n",
              "      <th>Temperature(C)</th>\n",
              "      <th>Humidity(%)</th>\n",
              "      <th>Wind_speed_(m/s)</th>\n",
              "      <th>Visibility (10m)</th>\n",
              "      <th>Dew point temperature(C)</th>\n",
              "      <th>Solar Radiation (MJ/m2)</th>\n",
              "      <th>Rainfall(mm)</th>\n",
              "      <th>Snowfall (cm)</th>\n",
              "      <th>Seasons</th>\n",
              "      <th>Functioning Day</th>\n",
              "    </tr>\n",
              "  </thead>\n",
              "  <tbody>\n",
              "    <tr>\n",
              "      <th>Date</th>\n",
              "      <td>1.000000</td>\n",
              "      <td>0.024568</td>\n",
              "      <td>0.001283</td>\n",
              "      <td>0.014677</td>\n",
              "      <td>-0.027077</td>\n",
              "      <td>-0.014896</td>\n",
              "      <td>-0.090162</td>\n",
              "      <td>0.000826</td>\n",
              "      <td>-0.007775</td>\n",
              "      <td>-0.011480</td>\n",
              "      <td>0.112261</td>\n",
              "      <td>-0.015322</td>\n",
              "      <td>0.067273</td>\n",
              "    </tr>\n",
              "    <tr>\n",
              "      <th>Rented Bike Count</th>\n",
              "      <td>0.024568</td>\n",
              "      <td>1.000000</td>\n",
              "      <td>0.420250</td>\n",
              "      <td>0.551920</td>\n",
              "      <td>-0.179436</td>\n",
              "      <td>0.129241</td>\n",
              "      <td>0.198321</td>\n",
              "      <td>0.393406</td>\n",
              "      <td>0.258286</td>\n",
              "      <td>-0.179184</td>\n",
              "      <td>-0.149740</td>\n",
              "      <td>-0.260190</td>\n",
              "      <td>0.208690</td>\n",
              "    </tr>\n",
              "    <tr>\n",
              "      <th>Hour</th>\n",
              "      <td>0.001283</td>\n",
              "      <td>0.420250</td>\n",
              "      <td>1.000000</td>\n",
              "      <td>0.116423</td>\n",
              "      <td>-0.234536</td>\n",
              "      <td>0.287022</td>\n",
              "      <td>0.093979</td>\n",
              "      <td>0.001532</td>\n",
              "      <td>0.147530</td>\n",
              "      <td>0.001385</td>\n",
              "      <td>-0.017913</td>\n",
              "      <td>0.000628</td>\n",
              "      <td>0.003140</td>\n",
              "    </tr>\n",
              "    <tr>\n",
              "      <th>Temperature(C)</th>\n",
              "      <td>0.014677</td>\n",
              "      <td>0.551920</td>\n",
              "      <td>0.116423</td>\n",
              "      <td>1.000000</td>\n",
              "      <td>0.244459</td>\n",
              "      <td>-0.065680</td>\n",
              "      <td>0.014000</td>\n",
              "      <td>0.925883</td>\n",
              "      <td>0.251438</td>\n",
              "      <td>0.078502</td>\n",
              "      <td>-0.225793</td>\n",
              "      <td>-0.351839</td>\n",
              "      <td>-0.061722</td>\n",
              "    </tr>\n",
              "    <tr>\n",
              "      <th>Humidity(%)</th>\n",
              "      <td>-0.027077</td>\n",
              "      <td>-0.179436</td>\n",
              "      <td>-0.234536</td>\n",
              "      <td>0.244459</td>\n",
              "      <td>1.000000</td>\n",
              "      <td>-0.303285</td>\n",
              "      <td>-0.546939</td>\n",
              "      <td>0.582780</td>\n",
              "      <td>-0.391210</td>\n",
              "      <td>0.328192</td>\n",
              "      <td>0.099101</td>\n",
              "      <td>-0.144286</td>\n",
              "      <td>-0.017001</td>\n",
              "    </tr>\n",
              "    <tr>\n",
              "      <th>Wind_speed_(m/s)</th>\n",
              "      <td>-0.014896</td>\n",
              "      <td>0.129241</td>\n",
              "      <td>0.287022</td>\n",
              "      <td>-0.065680</td>\n",
              "      <td>-0.303285</td>\n",
              "      <td>1.000000</td>\n",
              "      <td>0.165412</td>\n",
              "      <td>-0.178384</td>\n",
              "      <td>0.289969</td>\n",
              "      <td>-0.030444</td>\n",
              "      <td>0.003300</td>\n",
              "      <td>0.122844</td>\n",
              "      <td>0.016808</td>\n",
              "    </tr>\n",
              "    <tr>\n",
              "      <th>Visibility (10m)</th>\n",
              "      <td>-0.090162</td>\n",
              "      <td>0.198321</td>\n",
              "      <td>0.093979</td>\n",
              "      <td>0.014000</td>\n",
              "      <td>-0.546939</td>\n",
              "      <td>0.165412</td>\n",
              "      <td>1.000000</td>\n",
              "      <td>-0.185675</td>\n",
              "      <td>0.114848</td>\n",
              "      <td>-0.227664</td>\n",
              "      <td>-0.122386</td>\n",
              "      <td>-0.009814</td>\n",
              "      <td>-0.031342</td>\n",
              "    </tr>\n",
              "    <tr>\n",
              "      <th>Dew point temperature(C)</th>\n",
              "      <td>0.000826</td>\n",
              "      <td>0.393406</td>\n",
              "      <td>0.001532</td>\n",
              "      <td>0.925883</td>\n",
              "      <td>0.582780</td>\n",
              "      <td>-0.178384</td>\n",
              "      <td>-0.185675</td>\n",
              "      <td>1.000000</td>\n",
              "      <td>0.045647</td>\n",
              "      <td>0.174865</td>\n",
              "      <td>-0.158100</td>\n",
              "      <td>-0.343785</td>\n",
              "      <td>-0.058915</td>\n",
              "    </tr>\n",
              "    <tr>\n",
              "      <th>Solar Radiation (MJ/m2)</th>\n",
              "      <td>-0.007775</td>\n",
              "      <td>0.258286</td>\n",
              "      <td>0.147530</td>\n",
              "      <td>0.251438</td>\n",
              "      <td>-0.391210</td>\n",
              "      <td>0.289969</td>\n",
              "      <td>0.114848</td>\n",
              "      <td>0.045647</td>\n",
              "      <td>1.000000</td>\n",
              "      <td>-0.090718</td>\n",
              "      <td>-0.052664</td>\n",
              "      <td>-0.063242</td>\n",
              "      <td>-0.019203</td>\n",
              "    </tr>\n",
              "    <tr>\n",
              "      <th>Rainfall(mm)</th>\n",
              "      <td>-0.011480</td>\n",
              "      <td>-0.179184</td>\n",
              "      <td>0.001385</td>\n",
              "      <td>0.078502</td>\n",
              "      <td>0.328192</td>\n",
              "      <td>-0.030444</td>\n",
              "      <td>-0.227664</td>\n",
              "      <td>0.174865</td>\n",
              "      <td>-0.090718</td>\n",
              "      <td>1.000000</td>\n",
              "      <td>0.009285</td>\n",
              "      <td>-0.034119</td>\n",
              "      <td>0.007409</td>\n",
              "    </tr>\n",
              "    <tr>\n",
              "      <th>Snowfall (cm)</th>\n",
              "      <td>0.112261</td>\n",
              "      <td>-0.149740</td>\n",
              "      <td>-0.017913</td>\n",
              "      <td>-0.225793</td>\n",
              "      <td>0.099101</td>\n",
              "      <td>0.003300</td>\n",
              "      <td>-0.122386</td>\n",
              "      <td>-0.158100</td>\n",
              "      <td>-0.052664</td>\n",
              "      <td>0.009285</td>\n",
              "      <td>1.000000</td>\n",
              "      <td>0.158164</td>\n",
              "      <td>0.034709</td>\n",
              "    </tr>\n",
              "    <tr>\n",
              "      <th>Seasons</th>\n",
              "      <td>-0.015322</td>\n",
              "      <td>-0.260190</td>\n",
              "      <td>0.000628</td>\n",
              "      <td>-0.351839</td>\n",
              "      <td>-0.144286</td>\n",
              "      <td>0.122844</td>\n",
              "      <td>-0.009814</td>\n",
              "      <td>-0.343785</td>\n",
              "      <td>-0.063242</td>\n",
              "      <td>-0.034119</td>\n",
              "      <td>0.158164</td>\n",
              "      <td>1.000000</td>\n",
              "      <td>0.228387</td>\n",
              "    </tr>\n",
              "    <tr>\n",
              "      <th>Functioning Day</th>\n",
              "      <td>0.067273</td>\n",
              "      <td>0.208690</td>\n",
              "      <td>0.003140</td>\n",
              "      <td>-0.061722</td>\n",
              "      <td>-0.017001</td>\n",
              "      <td>0.016808</td>\n",
              "      <td>-0.031342</td>\n",
              "      <td>-0.058915</td>\n",
              "      <td>-0.019203</td>\n",
              "      <td>0.007409</td>\n",
              "      <td>0.034709</td>\n",
              "      <td>0.228387</td>\n",
              "      <td>1.000000</td>\n",
              "    </tr>\n",
              "  </tbody>\n",
              "</table>\n",
              "</div>\n",
              "      <button class=\"colab-df-convert\" onclick=\"convertToInteractive('df-29a52f2f-7b1b-46df-b114-69eb33e9b7e7')\"\n",
              "              title=\"Convert this dataframe to an interactive table.\"\n",
              "              style=\"display:none;\">\n",
              "        \n",
              "  <svg xmlns=\"http://www.w3.org/2000/svg\" height=\"24px\"viewBox=\"0 0 24 24\"\n",
              "       width=\"24px\">\n",
              "    <path d=\"M0 0h24v24H0V0z\" fill=\"none\"/>\n",
              "    <path d=\"M18.56 5.44l.94 2.06.94-2.06 2.06-.94-2.06-.94-.94-2.06-.94 2.06-2.06.94zm-11 1L8.5 8.5l.94-2.06 2.06-.94-2.06-.94L8.5 2.5l-.94 2.06-2.06.94zm10 10l.94 2.06.94-2.06 2.06-.94-2.06-.94-.94-2.06-.94 2.06-2.06.94z\"/><path d=\"M17.41 7.96l-1.37-1.37c-.4-.4-.92-.59-1.43-.59-.52 0-1.04.2-1.43.59L10.3 9.45l-7.72 7.72c-.78.78-.78 2.05 0 2.83L4 21.41c.39.39.9.59 1.41.59.51 0 1.02-.2 1.41-.59l7.78-7.78 2.81-2.81c.8-.78.8-2.07 0-2.86zM5.41 20L4 18.59l7.72-7.72 1.47 1.35L5.41 20z\"/>\n",
              "  </svg>\n",
              "      </button>\n",
              "      \n",
              "  <style>\n",
              "    .colab-df-container {\n",
              "      display:flex;\n",
              "      flex-wrap:wrap;\n",
              "      gap: 12px;\n",
              "    }\n",
              "\n",
              "    .colab-df-convert {\n",
              "      background-color: #E8F0FE;\n",
              "      border: none;\n",
              "      border-radius: 50%;\n",
              "      cursor: pointer;\n",
              "      display: none;\n",
              "      fill: #1967D2;\n",
              "      height: 32px;\n",
              "      padding: 0 0 0 0;\n",
              "      width: 32px;\n",
              "    }\n",
              "\n",
              "    .colab-df-convert:hover {\n",
              "      background-color: #E2EBFA;\n",
              "      box-shadow: 0px 1px 2px rgba(60, 64, 67, 0.3), 0px 1px 3px 1px rgba(60, 64, 67, 0.15);\n",
              "      fill: #174EA6;\n",
              "    }\n",
              "\n",
              "    [theme=dark] .colab-df-convert {\n",
              "      background-color: #3B4455;\n",
              "      fill: #D2E3FC;\n",
              "    }\n",
              "\n",
              "    [theme=dark] .colab-df-convert:hover {\n",
              "      background-color: #434B5C;\n",
              "      box-shadow: 0px 1px 3px 1px rgba(0, 0, 0, 0.15);\n",
              "      filter: drop-shadow(0px 1px 2px rgba(0, 0, 0, 0.3));\n",
              "      fill: #FFFFFF;\n",
              "    }\n",
              "  </style>\n",
              "\n",
              "      <script>\n",
              "        const buttonEl =\n",
              "          document.querySelector('#df-29a52f2f-7b1b-46df-b114-69eb33e9b7e7 button.colab-df-convert');\n",
              "        buttonEl.style.display =\n",
              "          google.colab.kernel.accessAllowed ? 'block' : 'none';\n",
              "\n",
              "        async function convertToInteractive(key) {\n",
              "          const element = document.querySelector('#df-29a52f2f-7b1b-46df-b114-69eb33e9b7e7');\n",
              "          const dataTable =\n",
              "            await google.colab.kernel.invokeFunction('convertToInteractive',\n",
              "                                                     [key], {});\n",
              "          if (!dataTable) return;\n",
              "\n",
              "          const docLinkHtml = 'Like what you see? Visit the ' +\n",
              "            '<a target=\"_blank\" href=https://colab.research.google.com/notebooks/data_table.ipynb>data table notebook</a>'\n",
              "            + ' to learn more about interactive tables.';\n",
              "          element.innerHTML = '';\n",
              "          dataTable['output_type'] = 'display_data';\n",
              "          await google.colab.output.renderOutput(dataTable, element);\n",
              "          const docLink = document.createElement('div');\n",
              "          docLink.innerHTML = docLinkHtml;\n",
              "          element.appendChild(docLink);\n",
              "        }\n",
              "      </script>\n",
              "    </div>\n",
              "  </div>\n",
              "  "
            ],
            "text/plain": [
              "                              Date  ...  Functioning Day\n",
              "Date                      1.000000  ...         0.067273\n",
              "Rented Bike Count         0.024568  ...         0.208690\n",
              "Hour                      0.001283  ...         0.003140\n",
              "Temperature(C)            0.014677  ...        -0.061722\n",
              "Humidity(%)              -0.027077  ...        -0.017001\n",
              "Wind_speed_(m/s)         -0.014896  ...         0.016808\n",
              "Visibility (10m)         -0.090162  ...        -0.031342\n",
              "Dew point temperature(C)  0.000826  ...        -0.058915\n",
              "Solar Radiation (MJ/m2)  -0.007775  ...        -0.019203\n",
              "Rainfall(mm)             -0.011480  ...         0.007409\n",
              "Snowfall (cm)             0.112261  ...         0.034709\n",
              "Seasons                  -0.015322  ...         0.228387\n",
              "Functioning Day           0.067273  ...         1.000000\n",
              "\n",
              "[13 rows x 13 columns]"
            ]
          },
          "metadata": {},
          "execution_count": 233
        }
      ]
    },
    {
      "cell_type": "markdown",
      "source": [
        "##Ploting HeatMap using seaborn library"
      ],
      "metadata": {
        "id": "2IBR92eTcE-E"
      }
    },
    {
      "cell_type": "code",
      "source": [
        "plt.figure(figsize= (14,8))\n",
        "sns.heatmap(df_corr,annot = True, cmap = 'cubehelix_r',square = True)\n",
        "plt.show()"
      ],
      "metadata": {
        "colab": {
          "base_uri": "https://localhost:8080/",
          "height": 625
        },
        "id": "XyhrpmvyHPIR",
        "outputId": "65d90931-2e8c-476e-94e6-41c563f508d1"
      },
      "execution_count": null,
      "outputs": [
        {
          "output_type": "display_data",
          "data": {
            "image/png": "[encoded data removed]",
            "text/plain": [
              "<Figure size 1008x576 with 2 Axes>"
            ]
          },
          "metadata": {}
        }
      ]
    },
    {
      "cell_type": "code",
      "source": [
        "data_corr = df_corr['Rented Bike Count'][:-1]\n",
        "data_corr[abs(data_corr)>=0.30].sort_values(ascending = True)"
      ],
      "metadata": {
        "id": "yvCw24TWHpLv",
        "colab": {
          "base_uri": "https://localhost:8080/"
        },
        "outputId": "a2d26f12-a083-4247-f848-97bdf3043ca3"
      },
      "execution_count": null,
      "outputs": [
        {
          "output_type": "execute_result",
          "data": {
            "text/plain": [
              "Dew point temperature(C)    0.393406\n",
              "Hour                        0.420250\n",
              "Temperature(C)              0.551920\n",
              "Rented Bike Count           1.000000\n",
              "Name: Rented Bike Count, dtype: float64"
            ]
          },
          "metadata": {},
          "execution_count": 235
        }
      ]
    },
    {
      "cell_type": "code",
      "source": [
        "\n",
        "data_corr"
      ],
      "metadata": {
        "id": "WmAYMDBCmvhh",
        "colab": {
          "base_uri": "https://localhost:8080/"
        },
        "outputId": "0ee6271a-e147-4b24-ee17-7652808ee5a9"
      },
      "execution_count": null,
      "outputs": [
        {
          "output_type": "execute_result",
          "data": {
            "text/plain": [
              "Date                        0.024568\n",
              "Rented Bike Count           1.000000\n",
              "Hour                        0.420250\n",
              "Temperature(C)              0.551920\n",
              "Humidity(%)                -0.179436\n",
              "Wind_speed_(m/s)            0.129241\n",
              "Visibility (10m)            0.198321\n",
              "Dew point temperature(C)    0.393406\n",
              "Solar Radiation (MJ/m2)     0.258286\n",
              "Rainfall(mm)               -0.179184\n",
              "Snowfall (cm)              -0.149740\n",
              "Seasons                    -0.260190\n",
              "Name: Rented Bike Count, dtype: float64"
            ]
          },
          "metadata": {},
          "execution_count": 236
        }
      ]
    },
    {
      "cell_type": "markdown",
      "source": [
        "##Creating Variable With Columns"
      ],
      "metadata": {
        "id": "wmRr8iyScNhN"
      }
    },
    {
      "cell_type": "code",
      "source": [
        "df.columns\n"
      ],
      "metadata": {
        "colab": {
          "base_uri": "https://localhost:8080/"
        },
        "id": "HQ2eg5qlsTNf",
        "outputId": "0c9c2ea3-51ab-4b6f-bb55-d52294026685"
      },
      "execution_count": null,
      "outputs": [
        {
          "output_type": "execute_result",
          "data": {
            "text/plain": [
              "Index(['Date', 'Rented Bike Count', 'Hour', 'Temperature(C)', 'Humidity(%)',\n",
              "       'Wind_speed_(m/s)', 'Visibility (10m)', 'Dew point temperature(C)',\n",
              "       'Solar Radiation (MJ/m2)', 'Rainfall(mm)', 'Snowfall (cm)', 'Seasons',\n",
              "       'Functioning Day'],\n",
              "      dtype='object')"
            ]
          },
          "metadata": {},
          "execution_count": 237
        }
      ]
    },
    {
      "cell_type": "code",
      "source": [
        "#df.loc[df.Date == '24/11/2018']"
      ],
      "metadata": {
        "id": "E35TdW_Ls_5Y"
      },
      "execution_count": null,
      "outputs": []
    },
    {
      "cell_type": "code",
      "source": [
        "x = df.drop(['Rented Bike Count'],axis=1)\n",
        "y = df['Rented Bike Count']\n"
      ],
      "metadata": {
        "id": "a1fgo8q4bKhD"
      },
      "execution_count": null,
      "outputs": []
    },
    {
      "cell_type": "markdown",
      "source": [
        "##Spliting DataSet For Training and Testing "
      ],
      "metadata": {
        "id": "7aCnVIHUcj_n"
      }
    },
    {
      "cell_type": "code",
      "source": [
        "from sklearn.model_selection import train_test_split\n",
        "X_train, X_test, Y_train, Y_test = train_test_split(x,y,test_size=0.20)\n",
        "\n"
      ],
      "metadata": {
        "id": "FiMsFrfibAhh"
      },
      "execution_count": null,
      "outputs": []
    },
    {
      "cell_type": "markdown",
      "source": [
        "##Importing Linear Regression"
      ],
      "metadata": {
        "id": "cStgCyRIdBPo"
      }
    },
    {
      "cell_type": "code",
      "source": [
        "from sklearn.linear_model import LinearRegression\n",
        "model = LinearRegression()\n",
        "model.fit(X_train, Y_train)"
      ],
      "metadata": {
        "colab": {
          "base_uri": "https://localhost:8080/"
        },
        "id": "16o-ENC3cOw-",
        "outputId": "4613f150-24c4-4415-ef56-d1e973bb93f3"
      },
      "execution_count": null,
      "outputs": [
        {
          "output_type": "execute_result",
          "data": {
            "text/plain": [
              "LinearRegression()"
            ]
          },
          "metadata": {},
          "execution_count": 241
        }
      ]
    },
    {
      "cell_type": "markdown",
      "source": [
        "##Testing Data"
      ],
      "metadata": {
        "id": "-1d3mJECdMpD"
      }
    },
    {
      "cell_type": "code",
      "source": [
        "mode_pred=model.predict(X_test)"
      ],
      "metadata": {
        "id": "ASqmXgzvfH-x"
      },
      "execution_count": null,
      "outputs": []
    },
    {
      "cell_type": "markdown",
      "source": [
        "##Checking Accuracy Score"
      ],
      "metadata": {
        "id": "N0HXwQ3ndUdj"
      }
    },
    {
      "cell_type": "code",
      "source": [
        "model_score=model.score(X_test,Y_test)\n",
        "print(\"Our Accuracy Score: \",model_score)"
      ],
      "metadata": {
        "colab": {
          "base_uri": "https://localhost:8080/"
        },
        "id": "TTUn7w6PfeFU",
        "outputId": "188e0401-41f7-4c01-b4be-f4913f308bca"
      },
      "execution_count": null,
      "outputs": [
        {
          "output_type": "stream",
          "name": "stdout",
          "text": [
            "Our Accuracy Score:  0.6129623401328994\n"
          ]
        }
      ]
    },
    {
      "cell_type": "markdown",
      "source": [
        "##Checking R2 score\n"
      ],
      "metadata": {
        "id": "ZUX3yrcTYQRs"
      }
    },
    {
      "cell_type": "code",
      "source": [
        "from sklearn.metrics import r2_score\n",
        "\n",
        "print('R_Squared Score of linear regression:',r2_score(Y_test,mode_pred))\n"
      ],
      "metadata": {
        "colab": {
          "base_uri": "https://localhost:8080/"
        },
        "id": "EcXM3ufuYPUR",
        "outputId": "f4dccaa3-92af-44b6-da66-38b5888a0a01"
      },
      "execution_count": null,
      "outputs": [
        {
          "output_type": "stream",
          "name": "stdout",
          "text": [
            "R_Squared Score of linear regression: 0.6129623401328994\n"
          ]
        }
      ]
    },
    {
      "cell_type": "markdown",
      "source": [
        "##Using Ridge & Lasso Trying to Increase Accuaracy Score"
      ],
      "metadata": {
        "id": "AbaBL9qojT9q"
      }
    },
    {
      "cell_type": "code",
      "source": [
        "from google.colab import drive\n",
        "drive.mount('/content/drive')"
      ],
      "metadata": {
        "colab": {
          "base_uri": "https://localhost:8080/"
        },
        "id": "xY-Ta4REqRPW",
        "outputId": "44b5c3e2-b9c2-40f4-8625-7acf2b1b3cd8"
      },
      "execution_count": null,
      "outputs": [
        {
          "output_type": "stream",
          "name": "stdout",
          "text": [
            "Drive already mounted at /content/drive; to attempt to forcibly remount, call drive.mount(\"/content/drive\", force_remount=True).\n"
          ]
        }
      ]
    },
    {
      "cell_type": "code",
      "source": [
        "from sklearn.linear_model import Ridge\n",
        "\n",
        "ridge = Ridge()\n",
        "\n",
        "ridge.fit(X_train, Y_train)\n",
        "ridge_score = ridge.score(X_test, Y_test)\n",
        "\n",
        "print(\"Accuracy Using ridge: \",ridge_score)"
      ],
      "metadata": {
        "colab": {
          "base_uri": "https://localhost:8080/"
        },
        "id": "2xjwYUeqjfQD",
        "outputId": "1235f54d-a844-4ac8-8789-4db69dc68f7a"
      },
      "execution_count": null,
      "outputs": [
        {
          "output_type": "stream",
          "name": "stdout",
          "text": [
            "Accuracy Using ridge:  0.6129525920380203\n"
          ]
        }
      ]
    },
    {
      "cell_type": "code",
      "source": [
        "from sklearn.linear_model import Lasso\n",
        "\n",
        "lasso = Lasso()\n",
        "\n",
        "lasso.fit(X_train, Y_train)\n",
        "lasso_score = lasso.score(X_test, Y_test)\n",
        "\n",
        "print(\"Accuracy Using lasso: \",lasso_score)"
      ],
      "metadata": {
        "colab": {
          "base_uri": "https://localhost:8080/"
        },
        "id": "sYG73qk1j0Jq",
        "outputId": "376afd79-d6e9-4d10-9ed4-bc54c73b7750"
      },
      "execution_count": null,
      "outputs": [
        {
          "output_type": "stream",
          "name": "stdout",
          "text": [
            "Accuracy Using lasso:  0.6127670843365053\n"
          ]
        }
      ]
    }
  ]
}